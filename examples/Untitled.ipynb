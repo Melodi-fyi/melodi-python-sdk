{
 "cells": [
  {
   "cell_type": "markdown",
   "id": "054afc6a-cc41-4eae-ab64-5127eea31d0f",
   "metadata": {},
   "source": [
    "# Melodi Python SDK - Quick Start"
   ]
  },
  {
   "cell_type": "code",
   "execution_count": 1,
   "id": "e20278d2-3e53-40ac-bb7f-cd3281b9f627",
   "metadata": {},
   "outputs": [
    {
     "name": "stdout",
     "output_type": "stream",
     "text": [
      "Current working directory: /Users/mukul/projects/repos/melodi-sdk-python\n"
     ]
    }
   ],
   "source": [
    "import os\n",
    "\n",
    "# Change the working directory\n",
    "os.chdir('..')\n",
    "\n",
    "# Verify the change\n",
    "print(\"Current working directory:\", os.getcwd())"
   ]
  },
  {
   "cell_type": "code",
   "execution_count": 7,
   "id": "6931699e-16cc-4582-b000-571bff07ccff",
   "metadata": {},
   "outputs": [],
   "source": [
    "from melodi.api import MelodiClient\n",
    "from melodi.data_models import BinarySample"
   ]
  },
  {
   "cell_type": "markdown",
   "id": "2dee093f-e22d-4e54-8d04-ded743903105",
   "metadata": {},
   "source": [
    "## Set API key"
   ]
  },
  {
   "cell_type": "code",
   "execution_count": 4,
   "id": "9613a121-aec0-4b99-8530-582eabb7cce4",
   "metadata": {},
   "outputs": [],
   "source": [
    "os.environ['MELODI_API_KEY'] = \"0c942a02-d124-4e7d-9ca5-19e449bc8152\""
   ]
  },
  {
   "cell_type": "markdown",
   "id": "7f67bde8-bc19-48bc-9a18-334a64c62430",
   "metadata": {},
   "source": [
    "## Batch upload: Binary Experiment"
   ]
  },
  {
   "cell_type": "code",
   "execution_count": 6,
   "id": "8bec24e9-4d27-42a4-adb5-66f8c733a43a",
   "metadata": {},
   "outputs": [
    {
     "name": "stderr",
     "output_type": "stream",
     "text": [
      "INFO:melodi.api:Loading samples from: ./examples/binary_sample_data.jsonl\n",
      "INFO:melodi.api:Experiment type = binary\n",
      "INFO:melodi.api:Loaded 7 samples\n",
      "INFO:melodi.api:Successfully create Melodi experiment.\n",
      "INFO:melodi.api:Experiment ID: 1437\n"
     ]
    }
   ],
   "source": [
    "client = MelodiClient(verbose=True)\n",
    "\n",
    "binary_samples = client.load_samples(\n",
    "    file_path='./examples/binary_sample_data.jsonl', \n",
    "    experiment_type='binary'\n",
    ")\n",
    "\n",
    "client.create_binary_evaluation_experiment(\n",
    "    name='My Binary Experiment',\n",
    "    instructions='Here are some instructions',\n",
    "    samples=binary_samples\n",
    ")"
   ]
  },
  {
   "cell_type": "markdown",
   "id": "8c5737f2-5353-4413-bcec-c325ea0e5680",
   "metadata": {},
   "source": [
    "### Log an individual sample"
   ]
  },
  {
   "cell_type": "code",
   "execution_count": 8,
   "id": "310d92ea-f218-4bf6-a63b-c075b6c1a2aa",
   "metadata": {},
   "outputs": [],
   "source": [
    "EXP_ID = 1437\n",
    "\n",
    "sample_A = BinarySample(response='This is a response', title='This is a title')\n",
    "client.log_binary_sample(experiment_id=EXP_ID, sample=sample_A)"
   ]
  },
  {
   "cell_type": "markdown",
   "id": "3f29c68b-fa00-46d3-a367-523bb0661089",
   "metadata": {},
   "source": [
    "## Batch upload: Bake-off Experiment"
   ]
  },
  {
   "cell_type": "code",
   "execution_count": null,
   "id": "8c7a1b15-17da-4e5d-ba2d-b63654318ae8",
   "metadata": {},
   "outputs": [],
   "source": [
    "client = MelodiClient(verbose=True)\n",
    "\n",
    "bakeoff_samples = client.load_samples(\n",
    "    file_path='./examples/bakeoff_sample_data.jsonl',\n",
    "    experiment_type='bake_off'\n",
    ")\n",
    "\n",
    "client.create_binary_evaluation_experiment(\n",
    "    name='My Make',\n",
    "    instructions='Here are some instructions',\n",
    "    samples=binary_samples\n",
    ")"
   ]
  }
 ],
 "metadata": {
  "kernelspec": {
   "display_name": "Python 3 (ipykernel)",
   "language": "python",
   "name": "python3"
  },
  "language_info": {
   "codemirror_mode": {
    "name": "ipython",
    "version": 3
   },
   "file_extension": ".py",
   "mimetype": "text/x-python",
   "name": "python",
   "nbconvert_exporter": "python",
   "pygments_lexer": "ipython3",
   "version": "3.9.19"
  }
 },
 "nbformat": 4,
 "nbformat_minor": 5
}
